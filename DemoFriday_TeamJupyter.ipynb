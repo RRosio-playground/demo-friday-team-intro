{
 "cells": [
  {
   "cell_type": "markdown",
   "id": "5b7ac738",
   "metadata": {
    "slideshow": {
     "slide_type": "slide"
    }
   },
   "source": [
    "# Team Jupyter\n",
    "- Eric Charles - Tech Lead based in Belgium (Quansight)\n",
    "- Eric Gentry - joined in early May and based in US\n",
    "- Rosio Reyes - joined mid April and based in US"
   ]
  },
  {
   "cell_type": "markdown",
   "id": "81ebf804",
   "metadata": {
    "slideshow": {
     "slide_type": "slide"
    }
   },
   "source": [
    "# What Is Happening With Notebook?\n",
    "| Notebook <= 6.5 | JupyterLab | Notebook >= 7.x |\n",
    "|:------:|:------:|:------:|\n",
    "|notebook UI + tornado server|Extensible UI written in Typescript|JupyterLab components in the frontend|\n",
    "| Notebook <= 6.5 | JupyterLab | Notebook >= 7.x |\n",
    "|v6.5 (EOL)|jupyter-server provides the python server|jupyter-server provides the python server|\n",
    "|nbclassic is a jupyter-server extension based on notebook v6.5|||\n"
   ]
  },
  {
   "cell_type": "markdown",
   "id": "62fe59f5",
   "metadata": {
    "slideshow": {
     "slide_type": "slide"
    }
   },
   "source": [
    "# What are we trying to do?\n",
    "- We want to contribute to Jupyter Sub-projects\n",
    "    - Some Jupyter projects\n",
    "        - notebook\n",
    "        - jupyter-server\n",
    "        - jupyter-client\n",
    "        - jupyterlab\n",
    "        - nbclassic\n",
    "- Current focus is on Notebook\n",
    "    - Continued support to jupyter/notebook users\n",
    "    - Engaging in Jupyter sub-project meetings\n"
   ]
  },
  {
   "cell_type": "markdown",
   "id": "2280b277",
   "metadata": {
    "slideshow": {
     "slide_type": "subslide"
    }
   },
   "source": [
    "## Extensions\n",
    "- We have a mix of front-end/server extensions and some that extend both!\n",
    "    - Some Extensions\n",
    "        - Pyforest\n",
    "        - jupyter-resource-usage\n",
    "        - jupyter-themes\n",
    "        - nbgitpuller\n",
    "        - RISE"
   ]
  },
  {
   "cell_type": "markdown",
   "id": "9bd828cf",
   "metadata": {
    "slideshow": {
     "slide_type": "slide"
    }
   },
   "source": [
    "# Demo"
   ]
  },
  {
   "cell_type": "code",
   "execution_count": null,
   "id": "e2b0dbd7",
   "metadata": {
    "slideshow": {
     "slide_type": "fragment"
    }
   },
   "outputs": [],
   "source": [
    "print(\"RISE demo\")\n",
    "# print(\"pyforest demo\")\n",
    "# np.array([[1, 2], [3, 4]])"
   ]
  },
  {
   "cell_type": "markdown",
   "id": "e2098344",
   "metadata": {
    "slideshow": {
     "slide_type": "skip"
    }
   },
   "source": [
    "### jupyter-resource-usage\n",
    "- jupyter notebook --ResourceUseDisplay.track_cpu_percent=True"
   ]
  },
  {
   "cell_type": "code",
   "execution_count": null,
   "id": "e897a9a0",
   "metadata": {
    "slideshow": {
     "slide_type": "skip"
    }
   },
   "outputs": [],
   "source": [
    "print(\"jupyter-resource-usage demo\")\n",
    "# code to add\n",
    "n_elems = 95\n",
    "n_repeats = 100000\n",
    "for i in range(n_repeats):\n",
    "    X = np.random.rand(n_elems, n_elems)\n",
    "    y = np.random.rand(n_elems)\n",
    "    _ = X.dot(y)"
   ]
  },
  {
   "cell_type": "markdown",
   "id": "42c75327",
   "metadata": {
    "slideshow": {
     "slide_type": "skip"
    }
   },
   "source": [
    "# jupyter-themes demo\n",
    "- jt -l (View installed themes)\n",
    "- jt -t oceans16 (install oceans16 theme)\n",
    "- jt -r (restore default themes)"
   ]
  },
  {
   "cell_type": "code",
   "execution_count": 4,
   "id": "a216eb54",
   "metadata": {},
   "outputs": [
    {
     "name": "stdout",
     "output_type": "stream",
     "text": [
      "The watermark extension is already loaded. To reload it, use:\n",
      "  %reload_ext watermark\n",
      "Python implementation: CPython\n",
      "Python version       : 3.8.12\n",
      "IPython version      : 8.4.0\n",
      "\n",
      "rise                        : 5.7.1\n",
      "pyforest                    : 1.1.0\n",
      "jupyter-resource-usage      : not installed\n",
      "numpy                       : 1.22.4\n",
      "jupyterthemes               : 0.20.0\n",
      "nbgitpuller                 : 1.1.0\n",
      "jupyter_contrib_nbextensions: 0.5.1\n",
      "watermark                   : 2.3.1\n",
      "\n",
      "Compiler    : Clang 11.1.0 \n",
      "OS          : Darwin\n",
      "Release     : 21.2.0\n",
      "Machine     : arm64\n",
      "Processor   : arm\n",
      "CPU cores   : 10\n",
      "Architecture: 64bit\n",
      "\n",
      " \n",
      "Last updated: Thu Jun 23 2022 13:31:57PDT\n",
      "\n"
     ]
    }
   ],
   "source": [
    "%load_ext watermark\n",
    "%watermark -v -m -p rise,pyforest,jupyter-resource-usage,numpy,jupyterthemes,nbgitpuller,jupyter_contrib_nbextensions,watermark\n",
    "print(\" \")\n",
    "%watermark -u -n -t -z\n"
   ]
  }
 ],
 "metadata": {
  "celltoolbar": "Slideshow",
  "kernelspec": {
   "display_name": "Python 3 (ipykernel)",
   "language": "python",
   "name": "python3"
  },
  "language_info": {
   "codemirror_mode": {
    "name": "ipython",
    "version": 3
   },
   "file_extension": ".py",
   "mimetype": "text/x-python",
   "name": "python",
   "nbconvert_exporter": "python",
   "pygments_lexer": "ipython3",
   "version": "3.8.12"
  }
 },
 "nbformat": 4,
 "nbformat_minor": 5
}
